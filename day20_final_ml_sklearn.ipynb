{
  "nbformat": 4,
  "nbformat_minor": 0,
  "metadata": {
    "colab": {
      "provenance": [],
      "authorship_tag": "ABX9TyOBHmu/gp8RlP4I1NGlZoI2",
      "include_colab_link": true
    },
    "kernelspec": {
      "name": "python3",
      "display_name": "Python 3"
    },
    "language_info": {
      "name": "python"
    }
  },
  "cells": [
    {
      "cell_type": "markdown",
      "metadata": {
        "id": "view-in-github",
        "colab_type": "text"
      },
      "source": [
        "<a href=\"https://colab.research.google.com/github/aimanhamdani/PKC2024/blob/master/day20_final_ml_sklearn.ipynb\" target=\"_parent\"><img src=\"https://colab.research.google.com/assets/colab-badge.svg\" alt=\"Open In Colab\"/></a>"
      ]
    },
    {
      "cell_type": "code",
      "execution_count": 1,
      "metadata": {
        "colab": {
          "base_uri": "https://localhost:8080/"
        },
        "id": "W8KgupRvrvDG",
        "outputId": "6a404107-e154-4b99-a43f-36bf90d32a8c"
      },
      "outputs": [
        {
          "output_type": "stream",
          "name": "stderr",
          "text": [
            "<ipython-input-1-50a9bcd99685>:12: FutureWarning: A value is trying to be set on a copy of a DataFrame or Series through chained assignment using an inplace method.\n",
            "The behavior will change in pandas 3.0. This inplace method will never work because the intermediate object on which we are setting values always behaves as a copy.\n",
            "\n",
            "For example, when doing 'df[col].method(value, inplace=True)', try using 'df.method({col: value}, inplace=True)' or df[col] = df[col].method(value) instead, to perform the operation inplace on the original object.\n",
            "\n",
            "\n",
            "  X.age.fillna(value = X['age'].mean(), inplace=True) #FILL MISSING VALUES IN DATA WITH REQUIRED METHOD LIKE MEAN MEDIAN MODE WITH INDIVISUAL OR GROUPBY\n"
          ]
        },
        {
          "output_type": "stream",
          "name": "stdout",
          "text": [
            "Accuracy Score:  Logistic Regression : 0.81\n",
            "Accuracy Score:  Random Forest : 0.80\n",
            "Accuracy Score:  Decision Tree : 0.77\n",
            "Accuracy Score:  KNN : 0.69\n",
            "Accuracy Score:  SVM : 0.66\n",
            "Precision Score:  Logistic Regression : 0.80\n",
            "Precision Score:  Random Forest : 0.77\n",
            "Precision Score:  SVM : 0.76\n",
            "Precision Score:  Decision Tree : 0.71\n",
            "Precision Score:  KNN : 0.65\n",
            "Recall Score:  Logistic Regression : 0.72\n",
            "Recall Score:  Decision Tree : 0.70\n",
            "Recall Score:  Random Forest : 0.70\n",
            "Recall Score:  KNN : 0.54\n",
            "Recall Score:  SVM : 0.26\n",
            "F1 Score:  Random Forest : 0.77\n",
            "F1 Score:  Logistic Regression : 0.76\n",
            "F1 Score:  Decision Tree : 0.71\n",
            "F1 Score:  KNN : 0.59\n",
            "F1 Score:  SVM : 0.38\n"
          ]
        }
      ],
      "source": [
        "# Import the necessary libraries\n",
        "# import libraries\n",
        "import pandas as pd # IMPORT LIBRARIES\n",
        "import numpy as np\n",
        "import seaborn as sns\n",
        "import matplotlib.pyplot as plt\n",
        "\n",
        "df = sns.load_dataset(\"titanic\") #IMPROT DATASET\n",
        "X = df[['pclass', 'sex', 'age', 'sibsp', 'parch', 'fare']] #REQUIRED DATA KEEP IN FEATURES AND TARGET VARIABLE\n",
        "y = df['survived'] #TARGET VARIABLE\n",
        "X = pd.get_dummies(X, columns=['sex']) # PREPARE DATA FOR MACHINE LEARNING. CONVERT CATEGORICAL DATA IN DUMMIES 0 AND 1\n",
        "X.age.fillna(value = X['age'].mean(), inplace=True) #FILL MISSING VALUES IN DATA WITH REQUIRED METHOD LIKE MEAN MEDIAN MODE WITH INDIVISUAL OR GROUPBY\n",
        "\n",
        "\n",
        "from sklearn.linear_model import LogisticRegression #IMPORT MACHINE LEARNING LIBRARIES AS PER THE PROBLEM WHETHER IT IS REGRESSION OR CLASSIFICATION.\n",
        "from sklearn.svm import SVC\n",
        "from sklearn.tree import DecisionTreeClassifier\n",
        "from sklearn.ensemble import RandomForestClassifier\n",
        "from sklearn.neighbors import KNeighborsClassifier\n",
        "from sklearn.metrics import accuracy_score, f1_score, precision_score, recall_score #IMPORT LIBRARY FOR FINDING MATRICS\n",
        "from sklearn.model_selection import train_test_split #IMPORT LIBRARY FOR SPLITING THE DATA IN TRAIN TEST\n",
        "\n",
        "X_train, X_test, y_train, y_test = train_test_split(X, y, test_size=0.2, random_state=42) #SPLIT DATA IN TRAIN TEST WITH TEST SIZE OF 20% AND TRAINING SIZE OF 80% AND RS=42\n",
        "\n",
        "models = [LogisticRegression(), SVC(), DecisionTreeClassifier(), RandomForestClassifier(), KNeighborsClassifier()] #KEEP MODELS IN A LIST\n",
        "model_names = ['Logistic Regression', 'SVM', 'Decision Tree', 'Random Forest', 'KNN'] #KEEP MODEL NAMES IN ANOTHER LIST\n",
        "\n",
        "models_scores = [] # MAKE EMPTY LIST FOR FILLING THE RESULTS GETTING FROM  APPLYING LOOP\n",
        "for model, model_name in zip(models, model_names): # APPLY LOOP\n",
        "    model.fit(X_train, y_train) #FIT AND TRAIN THE MODEL ON TRAINING DATA\n",
        "    y_pred = model.predict(X_test) # NOW PREDICT THE X_TEST VALUE ON HIDDEN Y_TRUE\n",
        "    accuracy = accuracy_score(y_test, y_pred) # CHECK ACCURACY SCORE OF Y TEST AND Y PREDICT\n",
        "    models_scores.append([model_name,accuracy]) # NOW APPEND SCORES IN ABOVE EMPTY LIST TO USE APPEND COMMAND\n",
        "\n",
        "sorted_models = sorted(models_scores, key=lambda x: x[1], reverse=True) #SORT THE RESULTS IN ASCENDING ORDER BY USING SORTED AND LAMBDA FUNCTIONS\n",
        "for model in sorted_models:\n",
        "    print(\"Accuracy Score: \",f'{model[0]} : {model[1]:.2f}')\n",
        "\n",
        "\n",
        "# Accuracy Score:  Random Forest : 0.81\n",
        "# Accuracy Score:  Decision Tree : 0.79\n",
        "# Accuracy Score:  KNN : 0.76\n",
        "# Accuracy Score:  Logistic Regression : 0.75\n",
        "# Accuracy Score:  SVM : 0.74\n",
        "\n",
        "models = [LogisticRegression(), SVC(), DecisionTreeClassifier(), RandomForestClassifier(), KNeighborsClassifier()]\n",
        "model_names = ['Logistic Regression', 'SVM', 'Decision Tree', 'Random Forest', 'KNN']\n",
        "models_scores = []\n",
        "for model, model_name in zip(models, model_names):\n",
        "    model.fit(X_train, y_train)\n",
        "    y_pred = model.predict(X_test)\n",
        "    Precision = precision_score(y_test, y_pred)\n",
        "    models_scores.append([model_name,Precision])\n",
        "\n",
        "sorted_models = sorted(models_scores, key=lambda x: x[1], reverse=True)\n",
        "for model in sorted_models:\n",
        "    print(\"Precision Score: \", f'{model[0]} : {model[1]:.2f}')\n",
        "\n",
        "# Precision Score:  Random Forest : 0.80\n",
        "# Precision Score:  Decision Tree : 0.78\n",
        "# Precision Score:  KNN : 0.75\n",
        "# Precision Score:  Logistic Regression : 0.74\n",
        "# Precision Score:  SVM : 0.73\n",
        "\n",
        "models = [LogisticRegression(), SVC(), DecisionTreeClassifier(), RandomForestClassifier(), KNeighborsClassifier()]\n",
        "model_names = ['Logistic Regression', 'SVM', 'Decision Tree', 'Random Forest', 'KNN']\n",
        "models_scores = []\n",
        "for model, model_name in zip(models, model_names):\n",
        "    model.fit(X_train, y_train)\n",
        "    y_pred = model.predict(X_test)\n",
        "    Recall = recall_score(y_test, y_pred)\n",
        "    models_scores.append([model_name,Recall])\n",
        "\n",
        "sorted_models = sorted(models_scores, key=lambda x: x[1], reverse=True)\n",
        "for model in sorted_models:\n",
        "    print(\"Recall Score: \",f'{model[0]} : {model[1]:.2f}')\n",
        "\n",
        "# Recall Score:  Random Forest : 0.74\n",
        "# Recall Score:  Decision Tree : 0.72\n",
        "# Recall Score:  KNN : 0.68\n",
        "# Recall Score:  Logistic Regression : 0.67\n",
        "# Recall Score:  SVM : 0.65\n",
        "\n",
        "models = [LogisticRegression(), SVC(), DecisionTreeClassifier(), RandomForestClassifier(), KNeighborsClassifier()]\n",
        "model_names = ['Logistic Regression', 'SVM', 'Decision Tree', 'Random Forest', 'KNN']\n",
        "models_scores = []\n",
        "for model, model_name in zip(models, model_names):\n",
        "    model.fit(X_train, y_train)\n",
        "    y_pred = model.predict(X_test)\n",
        "    F1 = f1_score(y_test, y_pred)\n",
        "    models_scores.append([model_name,F1])\n",
        "\n",
        "sorted_models = sorted(models_scores, key=lambda x: x[1], reverse=True)\n",
        "for model in sorted_models:\n",
        "    print(\"F1 Score: \",f'{model[0]} : {model[1]:.2f}')\n",
        "\n",
        "# F1 Score:  Random Forest : 0.77\n",
        "# F1 Score:  Decision Tree : 0.75\n",
        "# F1 Score:  KNN : 0.71\n",
        "# F1 Score:  Logistic Regression : 0.70\n",
        "# F1 Score:  SVM : 0.68"
      ]
    }
  ]
}
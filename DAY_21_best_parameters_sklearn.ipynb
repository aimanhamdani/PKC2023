{
  "nbformat": 4,
  "nbformat_minor": 0,
  "metadata": {
    "colab": {
      "provenance": [],
      "authorship_tag": "ABX9TyMhhotQLwbLHYLABcsHM9rH",
      "include_colab_link": true
    },
    "kernelspec": {
      "name": "python3",
      "display_name": "Python 3"
    },
    "language_info": {
      "name": "python"
    }
  },
  "cells": [
    {
      "cell_type": "markdown",
      "metadata": {
        "id": "view-in-github",
        "colab_type": "text"
      },
      "source": [
        "<a href=\"https://colab.research.google.com/github/aimanhamdani/PKC2024/blob/master/DAY_21_best_parameters_sklearn.ipynb\" target=\"_parent\"><img src=\"https://colab.research.google.com/assets/colab-badge.svg\" alt=\"Open In Colab\"/></a>"
      ]
    },
    {
      "cell_type": "code",
      "execution_count": 1,
      "metadata": {
        "id": "u689F1ttw-1k",
        "colab": {
          "base_uri": "https://localhost:8080/"
        },
        "outputId": "b1423a68-8812-4074-8e45-f8cea7cc685f"
      },
      "outputs": [
        {
          "output_type": "stream",
          "name": "stderr",
          "text": [
            "<ipython-input-1-8977c7722c71>:8: FutureWarning: A value is trying to be set on a copy of a DataFrame or Series through chained assignment using an inplace method.\n",
            "The behavior will change in pandas 3.0. This inplace method will never work because the intermediate object on which we are setting values always behaves as a copy.\n",
            "\n",
            "For example, when doing 'df[col].method(value, inplace=True)', try using 'df.method({col: value}, inplace=True)' or df[col] = df[col].method(value) instead, to perform the operation inplace on the original object.\n",
            "\n",
            "\n",
            "  X.age.fillna(value = X['age'].mean(), inplace=True)\n"
          ]
        },
        {
          "output_type": "stream",
          "name": "stdout",
          "text": [
            "param grid = {'max_depth': array([ 1,  3,  5,  7,  9, 11, 13, 15, 17, 19, 21, 23, 25, 27, 29]), 'min_samples_split': array([ 2,  3,  4,  5,  6,  7,  8,  9, 10, 11, 12, 13, 14])}\n",
            "------best para--------\n",
            "Best Parameters:  {'max_depth': 5, 'min_samples_split': 14}\n",
            "--------best score------\n",
            "Best Score:  0.82\n"
          ]
        }
      ],
      "source": [
        "# Decision Tree Classifier and use best parameters\n",
        "import pandas as pd\n",
        "import seaborn as sns\n",
        "df = sns.load_dataset(\"titanic\")\n",
        "X = df[['pclass', 'sex', 'age', 'sibsp', 'parch', 'fare']]\n",
        "y = df['survived']\n",
        "X = pd.get_dummies(X, columns=['sex'])\n",
        "X.age.fillna(value = X['age'].mean(), inplace=True)\n",
        "\n",
        "from sklearn.tree import DecisionTreeClassifier\n",
        "from sklearn.model_selection import GridSearchCV\n",
        "import numpy as np\n",
        "#create a model\n",
        "model = DecisionTreeClassifier()\n",
        "# define parameter grid\n",
        "# param_grid = {'max_depth': [3, 5, 7, None], 'min_samples_split': [2, 3, 4]}\n",
        "param_grid = {'max_depth': np.arange(1,30,2), 'min_samples_split': np.arange(2,15)}\n",
        "print(f\"param grid = {param_grid}\")\n",
        "#object grid search cv (Creating the model)\n",
        "grid_search = GridSearchCV(model, param_grid, cv=5, scoring='precision')\n",
        "\n",
        "#traing the model\n",
        "grid_search.fit(X,y)\n",
        "\n",
        "# print the best parameters\n",
        "print('------best para--------')\n",
        "print(\"Best Parameters: \", grid_search.best_params_)\n",
        "print('--------best score------')\n",
        "print(\"Best Score: \", round(grid_search.best_score_,2))\n",
        "\n",
        "# Best Parameters:  {'max_depth': 3, 'min_samples_split': 2}\n",
        "# Best Score:  0.775"
      ]
    },
    {
      "cell_type": "code",
      "source": [
        "import numpy as np\n",
        "import pandas as pd\n",
        "import seaborn as sns\n",
        "from sklearn.tree import DecisionTreeClassifier\n",
        "from sklearn.neighbors import KNeighborsClassifier\n",
        "from sklearn.model_selection import GridSearchCV\n",
        "df = sns.load_dataset(\"titanic\")\n",
        "X = df[['pclass', 'sex', 'age', 'sibsp', 'parch', 'fare']]\n",
        "y = df['survived']\n",
        "X = pd.get_dummies(X, columns=['sex'])\n",
        "X.age.fillna(value = X['age'].mean(), inplace=True)\n",
        "model=KNeighborsClassifier()\n",
        "dparam=model.get_params()\n",
        "param_grid={'n_neighbors': [5,7,9,15,25],'weights': ['uniform','distance']}\n",
        "for i,j in dparam.items():print(f\"dparam= {i,j}\")\n",
        "grid_search=GridSearchCV(model,param_grid,cv=4,scoring='f1')\n",
        "grid_search.fit(X,y)\n",
        "print(\"Best Parameters: \", grid_search.best_params_)\n",
        "print(\"Best Score: \", grid_search.best_score_)"
      ],
      "metadata": {
        "colab": {
          "base_uri": "https://localhost:8080/"
        },
        "id": "8CJHHDL17f11",
        "outputId": "8920e849-2953-45e9-d59f-dd28f55be57d"
      },
      "execution_count": 2,
      "outputs": [
        {
          "output_type": "stream",
          "name": "stdout",
          "text": [
            "dparam= ('algorithm', 'auto')\n",
            "dparam= ('leaf_size', 30)\n",
            "dparam= ('metric', 'minkowski')\n",
            "dparam= ('metric_params', None)\n",
            "dparam= ('n_jobs', None)\n",
            "dparam= ('n_neighbors', 5)\n",
            "dparam= ('p', 2)\n",
            "dparam= ('weights', 'uniform')\n"
          ]
        },
        {
          "output_type": "stream",
          "name": "stderr",
          "text": [
            "<ipython-input-2-29d67275f1e7>:11: FutureWarning: A value is trying to be set on a copy of a DataFrame or Series through chained assignment using an inplace method.\n",
            "The behavior will change in pandas 3.0. This inplace method will never work because the intermediate object on which we are setting values always behaves as a copy.\n",
            "\n",
            "For example, when doing 'df[col].method(value, inplace=True)', try using 'df.method({col: value}, inplace=True)' or df[col] = df[col].method(value) instead, to perform the operation inplace on the original object.\n",
            "\n",
            "\n",
            "  X.age.fillna(value = X['age'].mean(), inplace=True)\n"
          ]
        },
        {
          "output_type": "stream",
          "name": "stdout",
          "text": [
            "Best Parameters:  {'n_neighbors': 5, 'weights': 'distance'}\n",
            "Best Score:  0.6010632647006944\n"
          ]
        }
      ]
    },
    {
      "cell_type": "code",
      "source": [
        "from sklearn.tree import DecisionTreeClassifier\n",
        "\n",
        "model=DecisionTreeClassifier()\n",
        "dparam=model.get_params()\n",
        "print(dparam)"
      ],
      "metadata": {
        "colab": {
          "base_uri": "https://localhost:8080/"
        },
        "id": "y5NUbDzr_Rq2",
        "outputId": "f86575ae-4726-4ce0-e567-a1b665be2c62"
      },
      "execution_count": 3,
      "outputs": [
        {
          "output_type": "stream",
          "name": "stdout",
          "text": [
            "{'ccp_alpha': 0.0, 'class_weight': None, 'criterion': 'gini', 'max_depth': None, 'max_features': None, 'max_leaf_nodes': None, 'min_impurity_decrease': 0.0, 'min_samples_leaf': 1, 'min_samples_split': 2, 'min_weight_fraction_leaf': 0.0, 'monotonic_cst': None, 'random_state': None, 'splitter': 'best'}\n"
          ]
        }
      ]
    },
    {
      "cell_type": "code",
      "source": [
        "from sklearn.ensemble import RandomForestClassifier\n",
        "\n",
        "model=RandomForestClassifier()\n",
        "dparam=model.get_params()\n",
        "for i in dparam.items():\n",
        "    print(i)\n",
        "print(dparam)"
      ],
      "metadata": {
        "colab": {
          "base_uri": "https://localhost:8080/"
        },
        "id": "L6wryK0Qs-O-",
        "outputId": "e723916e-9951-4358-8772-438c0a4a81db"
      },
      "execution_count": 4,
      "outputs": [
        {
          "output_type": "stream",
          "name": "stdout",
          "text": [
            "('bootstrap', True)\n",
            "('ccp_alpha', 0.0)\n",
            "('class_weight', None)\n",
            "('criterion', 'gini')\n",
            "('max_depth', None)\n",
            "('max_features', 'sqrt')\n",
            "('max_leaf_nodes', None)\n",
            "('max_samples', None)\n",
            "('min_impurity_decrease', 0.0)\n",
            "('min_samples_leaf', 1)\n",
            "('min_samples_split', 2)\n",
            "('min_weight_fraction_leaf', 0.0)\n",
            "('monotonic_cst', None)\n",
            "('n_estimators', 100)\n",
            "('n_jobs', None)\n",
            "('oob_score', False)\n",
            "('random_state', None)\n",
            "('verbose', 0)\n",
            "('warm_start', False)\n",
            "{'bootstrap': True, 'ccp_alpha': 0.0, 'class_weight': None, 'criterion': 'gini', 'max_depth': None, 'max_features': 'sqrt', 'max_leaf_nodes': None, 'max_samples': None, 'min_impurity_decrease': 0.0, 'min_samples_leaf': 1, 'min_samples_split': 2, 'min_weight_fraction_leaf': 0.0, 'monotonic_cst': None, 'n_estimators': 100, 'n_jobs': None, 'oob_score': False, 'random_state': None, 'verbose': 0, 'warm_start': False}\n"
          ]
        }
      ]
    }
  ]
}